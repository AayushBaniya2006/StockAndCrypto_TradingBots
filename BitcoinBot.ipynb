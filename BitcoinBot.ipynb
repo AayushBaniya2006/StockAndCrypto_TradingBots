{
 "cells": [
  {
   "cell_type": "code",
   "execution_count": null,
   "metadata": {},
   "outputs": [],
   "source": [
    "from tensorflow.python.keras.utils.generic_utils import serialize_keras_object\n",
    "from tensorflow.python.keras.utils.generic_utils import serialize_keras_object\n",
    "from tensorflow.keras import utils\n",
    "from tensorflow.keras.models import Sequential\n",
    "from tensorflow.keras.layers import Dense, Flatten\n",
    "import json"
   ]
  },
  {
   "cell_type": "code",
   "execution_count": null,
   "metadata": {},
   "outputs": [],
   "source": [
    "start = datetime(2017,1,1)\n",
    "end = datetime(2021,1,1)"
   ]
  },
  {
   "attachments": {},
   "cell_type": "markdown",
   "metadata": {},
   "source": [
    "qb = QuantBook()\n",
    "symbol = qb.AddCrypto(\"BTCUSD\", Resolution.Daily).Symbol\n",
    "history = qb.History(symbol, start, end).loc[symbol]\n",
    "history.head"
   ]
  },
  {
   "cell_type": "code",
   "execution_count": null,
   "metadata": {},
   "outputs": [],
   "source": [
    "daily_pct_chnage = history[[\"open\",\"high\",\"low\", \"close\", \"volume\" ]].pct_change().dropna()\n",
    "df = daily_pct_chnage\n",
    "df.head()"
   ]
  },
  {
   "cell_type": "code",
   "execution_count": null,
   "metadata": {},
   "outputs": [],
   "source": [
    "n_steps = 30\n",
    "features = []\n",
    "labels = [] \n",
    "for i in range(len(df)-n_steps):\n",
    "    input_data = df.iloc[i:i+n_steps].values\n",
    "    features.append(input_data)\n",
    "    if df['close'].iloc[i+n_steps] >= 0:\n",
    "        label = 1\n",
    "    else:\n",
    "        label = 0 \n",
    "    labels.append(label)"
   ]
  },
  {
   "cell_type": "code",
   "execution_count": null,
   "metadata": {},
   "outputs": [],
   "source": [
    "features = np.array(features)\n",
    "labels = np.array(labels)"
   ]
  },
  {
   "cell_type": "code",
   "execution_count": null,
   "metadata": {},
   "outputs": [],
   "source": [
    "train_length = int(len(features*0.7))\n",
    "X_train = features[:train_length]\n",
    "X_test = features[train_length:]\n",
    "Y_train = labels[:train_length]\n",
    "Y_test = labels[train_length:]"
   ]
  },
  {
   "cell_type": "code",
   "execution_count": null,
   "metadata": {},
   "outputs": [],
   "source": [
    "sum(y_train)/len(y_train)"
   ]
  },
  {
   "cell_type": "code",
   "execution_count": null,
   "metadata": {},
   "outputs": [],
   "source": [
    "train_length = int(len(features*0.3))\n",
    "X_train = features[:train_length]\n",
    "X_test = features[train_length:]\n",
    "y_train = labels[:train_length]\n",
    "y_test = labels[train_length:]"
   ]
  },
  {
   "cell_type": "code",
   "execution_count": null,
   "metadata": {},
   "outputs": [],
   "source": [
    "sum(y_train)/len(y_train)"
   ]
  },
  {
   "cell_type": "code",
   "execution_count": null,
   "metadata": {},
   "outputs": [],
   "source": [
    "model = Sequential([Dense(30,input_shape=X_train[0].shape, activation='relu'), \n",
    "                Dense(20, activation='relu'), \n",
    "                Flatten(), \n",
    "                Dense(1,activation='sigmoid')])"
   ]
  },
  {
   "cell_type": "code",
   "execution_count": null,
   "metadata": {},
   "outputs": [],
   "source": [
    "model.compile(loss='binary_cossentropy',\n",
    "optimizer='adam',\n",
    "metrics=[\"accuracy\", \"mse\"])"
   ]
  }
 ],
 "metadata": {
  "kernelspec": {
   "display_name": "Python 3",
   "language": "python",
   "name": "python3"
  },
  "language_info": {
   "codemirror_mode": {
    "name": "ipython",
    "version": 3
   },
   "file_extension": ".py",
   "mimetype": "text/x-python",
   "name": "python",
   "nbconvert_exporter": "python",
   "pygments_lexer": "ipython3",
   "version": "3.10.7"
  },
  "orig_nbformat": 4
 },
 "nbformat": 4,
 "nbformat_minor": 2
}
